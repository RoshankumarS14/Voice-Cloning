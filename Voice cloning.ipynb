{
 "cells": [
  {
   "cell_type": "markdown",
   "metadata": {},
   "source": [
    "<table align=\"center\" width=100%>\n",
    "    <tr>\n",
    "        <td>\n",
    "            <div align=\"center\">\n",
    "                <font color=\"#21619\" size=6px>                   \n",
    "                    <b>  AIML Challenge\n",
    "                    </b>\n",
    "                </font>\n",
    "            </div>\n",
    "            <div align=\"center\">\n",
    "                <font color=\"#21619\" size=4.5px>                   \n",
    "                    <b>  \n",
    "                    </b>\n",
    "                </font>\n",
    "            </div>\n",
    "            <div align=\"center\">\n",
    "                <font color=\"#21619\" size=2px>                   \n",
    "                    <b> ----------------------------------------------------------------------------------------------------------------------- \n",
    "                    </b>\n",
    "                </font>\n",
    "            </div>\n",
    "            <div align=\"center\">\n",
    "                <font color=\"#21619\" size=5px>                   \n",
    "                    <b>  Voice translation from English to Hindi\n",
    "                    </b>\n",
    "                </font>\n",
    "            </div>\n",
    "            <div align=\"center\">\n",
    "                <font color=\"#21619\" size=4.5px>                   \n",
    "                    <b>  \n",
    "                    </b>\n",
    "                </font>\n",
    "            </div>\n",
    "            <div align=\"center\">\n",
    "                <font color=\"#21619\" size=2px>                   \n",
    "                    <b> ----------------------------------------------------------------------------------------------------------------------- "
   ]
  },
  {
   "cell_type": "markdown",
   "metadata": {},
   "source": [
    "<table align=\"center\" width=100%>\n",
    "    <tr>\n",
    "        <td>\n",
    "            <div align=\"left\">\n",
    "                <font color=\"#21619\" size=4.8px>                   \n",
    "                    <b>  Author\n",
    "                    </b>\n",
    "                </font>\n",
    "            </div>\n",
    "        </td>\n",
    "    </tr>\n",
    "</table>\n",
    "\n",
    "* Roshankumar S"
   ]
  },
  {
   "cell_type": "markdown",
   "metadata": {},
   "source": [
    "## Introduction\n",
    "\n",
    "In this Notebook, we'll explore the fascinating world of voice translation, specifically focusing on translating spoken English sentences into written Hindi text. We'll utilize the power of modern language processing and machine learning to achieve this feat. So, buckle up and let's embark on this linguistic journey!\n",
    "\n",
    "## Prerequisites\n",
    "\n",
    "Before we dive into the exciting process of voice translation, \n",
    "\n",
    "We must install certain dependencies using the following commands:\n",
    "\n",
    "```python\n",
    "!pip install ffmpeg-python\n",
    "!pip install openai-whisper\n",
    "!pip install googletrans==4.0.0-rc1\n",
    "!pip install git+https://github.com/suno-ai/bark.git\n",
    "!pip install git+https://github.com/huggingface/transformers.git\n",
    "!pip install TTS\n"
   ]
  },
  {
   "cell_type": "markdown",
   "metadata": {
    "colab": {
     "base_uri": "https://localhost:8080/",
     "height": 1000
    },
    "id": "cj_FFAKS_pT_",
    "outputId": "929fadfd-8bee-4b80-b026-7a7e28a16d3f"
   },
   "source": [
    "# Usage  \n",
    "\n",
    "\n",
    "## 1. ffmpeg-python\n",
    "\n",
    "`ffmpeg-python` is a versatile Python wrapper for FFmpeg, a robust multimedia framework. With this tool, you can effortlessly manipulate audio and video files, perform conversions, and extract valuable multimedia insights.\n",
    "\n",
    "## 2. openai-whisper\n",
    "\n",
    "Leverage the power of automatic speech recognition using `openai-whisper`. This library converts spoken language into written text, enabling you to transcribe audio files with ease and precision.\n",
    "\n",
    "## 3. googletrans==4.0.0-rc1\n",
    "\n",
    "Enhance your project's linguistic capabilities with `googletrans` (version 4.0.0-rc1). This Python library interfaces with Google Translate's API, allowing seamless language translation between various languages.\n",
    "\n",
    "## 4. bark\n",
    "\n",
    "`bark` is a meticulously crafted Python library by Suno AI, offering an array of features for audio data processing. Load, manipulate, and visualize audio files effortlessly within your project.\n",
    "\n",
    "## 5. transformers\n",
    "\n",
    "Explore the realm of natural language processing with the `transformers` library. This creation by Hugging Face presents pre-trained models, empowering you to accomplish sophisticated text-based tasks.\n",
    "\n",
    "## 6. TTS\n",
    "\n",
    "Give your project a voice with `TTS` (Text-to-Speech). This library converts written text into natural-sounding speech, making your content more accessible and engaging.\n",
    "\n",
    "With these prerequisites elegantly integrated into your toolkit, your project is poised for success. Each tool brings its unique magic, enabling you to craft a compelling and well-rounded endeavor. Happy coding!\n"
   ]
  },
  {
   "cell_type": "markdown",
   "metadata": {},
   "source": [
    "# Steps to Embark Upon\n",
    "\n",
    "Let's navigate through the captivating phases of our project:\n",
    "\n",
    "1. [Transcribing English Audio into Text](#step-1-transcribing-english-audio-into-text)\n",
    "2. [Translating Text from English to Hindi](#step-2-translating-text-from-english-to-hindi)\n",
    "3. [Voice Cloning with Translated Content](#step-3-voice-cloning-with-translated-content)\n",
    "\n",
    "## Step 1: Transcribing English Audio into Text\n",
    "\n",
    "In this phase, we'll employ the enchanting powers of `openai-whisper` to transcribe spoken English audio into textual treasures. Prepare our audio snippets and embark on this sonic transcription adventure.\n",
    "\n",
    "## Step 2: Translating Text from English to Hindi\n",
    "\n",
    "With the linguistic prowess of `googletrans`, we shall transform the transcribed English text into the elegant script of Hindi. Experience the magic of cross-cultural communication through the art of translation.\n",
    "\n",
    "## Step 3: Voice Cloning with Translated Content\n",
    "\n",
    "Delve into the realm of voice synthesis using the captivating `TTS` library. We will infuse the translated text with the same voice, creating an auditory masterpiece that transcends linguistic boundaries."
   ]
  },
  {
   "cell_type": "markdown",
   "metadata": {},
   "source": [
    "## Transcribing English Audio into Text"
   ]
  },
  {
   "cell_type": "code",
   "execution_count": 2,
   "metadata": {
    "colab": {
     "base_uri": "https://localhost:8080/"
    },
    "id": "6-u4nJve_5yJ",
    "outputId": "933fdf42-3caf-4a1a-fdce-51ff11e4f5e0"
   },
   "outputs": [
    {
     "name": "stderr",
     "output_type": "stream",
     "text": [
      "/usr/local/lib/python3.10/dist-packages/whisper/timing.py:58: NumbaDeprecationWarning: The 'nopython' keyword argument was not supplied to the 'numba.jit' decorator. The implicit default value for this argument is currently False, but it will be changed to True in Numba 0.59.0. See https://numba.readthedocs.io/en/stable/reference/deprecation.html#deprecation-of-object-mode-fall-back-behaviour-when-using-jit for details.\n",
      "  def backtrace(trace: np.ndarray):\n"
     ]
    }
   ],
   "source": [
    "# Import whisper library to convert audio to text\n",
    "import whisper"
   ]
  },
  {
   "cell_type": "code",
   "execution_count": 3,
   "metadata": {
    "colab": {
     "base_uri": "https://localhost:8080/"
    },
    "id": "yloQynPSCItQ",
    "outputId": "4605791f-ddba-46f9-fa1c-47951dc8e859"
   },
   "outputs": [
    {
     "name": "stderr",
     "output_type": "stream",
     "text": [
      "100%|███████████████████████████████████████| 139M/139M [00:03<00:00, 39.2MiB/s]\n"
     ]
    }
   ],
   "source": [
    "# Initialize a base model\n",
    "model = whisper.load_model(\"base\")\n",
    "\n",
    "# Transcribe audio using the model\n",
    "result = model.transcribe(\"Elon Musk audio.mp3\")"
   ]
  },
  {
   "cell_type": "code",
   "execution_count": 4,
   "metadata": {
    "id": "Bz0gSQuTCS7V"
   },
   "outputs": [],
   "source": [
    "# Save the transcripted text into a text file\n",
    "with open(\"transcript.txt\",\"w\") as f:\n",
    "    f.write(result[\"text\"])"
   ]
  },
  {
   "cell_type": "code",
   "execution_count": 5,
   "metadata": {
    "colab": {
     "base_uri": "https://localhost:8080/",
     "height": 122
    },
    "id": "W61jfn3TCV3I",
    "outputId": "3bdce328-4291-45be-b5bc-7861c2085798"
   },
   "outputs": [
    {
     "data": {
      "application/vnd.google.colaboratory.intrinsic+json": {
       "type": "string"
      },
      "text/plain": [
       "\" I'm actually incredibly excited about the future of India. I think India has more promise than any large country in the world. He really cares about India because he's pushing us to make significant investments in India which it is something that we intend to do and we're just trying to figure out the right timing. It was a fantastic meeting with the Prime Minister and I like him quite a lot. He visited our free want factory several years ago and so we're now knowing each other for a while. I can say he really wants to do the right thing for India. He wants to be open, he wants to be supportive of new companies and obviously but in the same time make sure it accrues to India's advantage which is obviously that's the job. I'm saying I am a fan of Modi.\""
      ]
     },
     "execution_count": 5,
     "metadata": {},
     "output_type": "execute_result"
    }
   ],
   "source": [
    "# Display the transcripted text\n",
    "result[\"text\"]"
   ]
  },
  {
   "cell_type": "markdown",
   "metadata": {},
   "source": [
    "## Step 2: Translating Text from English to Hindi"
   ]
  },
  {
   "cell_type": "code",
   "execution_count": 6,
   "metadata": {
    "id": "p6qR-zVLCYrs"
   },
   "outputs": [],
   "source": [
    "# Import Translator from google translator to translate text from english to hindi\n",
    "from googletrans import Translator"
   ]
  },
  {
   "cell_type": "code",
   "execution_count": 8,
   "metadata": {
    "id": "k9Moo_MSCbl-"
   },
   "outputs": [],
   "source": [
    "# Initialize the translator\n",
    "translator = Translator()\n",
    "\n",
    "# Define the text to be translated\n",
    "text = result[\"text\"]\n",
    "\n",
    "# en is the code for the English Language\n",
    "source_lan = \"en\"\n",
    "# hi is the code for the Hindi Language\n",
    "translated_to= \"hi\" \n",
    "\n",
    "# Translate the text from engligh to hindi using translator\n",
    "translated_text = translator.translate(text, src=source_lan, dest=translated_to)"
   ]
  },
  {
   "cell_type": "code",
   "execution_count": 9,
   "metadata": {
    "colab": {
     "base_uri": "https://localhost:8080/",
     "height": 105
    },
    "id": "_BrV7MqiCiaa",
    "outputId": "b64b1e17-84a8-458e-d3e6-1f1f1899e614"
   },
   "outputs": [
    {
     "data": {
      "application/vnd.google.colaboratory.intrinsic+json": {
       "type": "string"
      },
      "text/plain": [
       "'मैं वास्तव में भारत के भविष्य के बारे में अविश्वसनीय रूप से उत्साहित हूं।मुझे लगता है कि भारत में दुनिया के किसी भी बड़े देश की तुलना में अधिक वादा है।वह वास्तव में भारत के बारे में परवाह करता है क्योंकि वह हमें भारत में महत्वपूर्ण निवेश करने के लिए प्रेरित कर रहा है जो कि यह कुछ ऐसा है जिसे हम करना चाहते हैं और हम सिर्फ सही समय का पता लगाने की कोशिश कर रहे हैं।यह प्रधानमंत्री के साथ एक शानदार बैठक थी और मैं उन्हें काफी पसंद करता हूं।उन्होंने कई साल पहले हमारे फ्री वांट फैक्ट्री का दौरा किया था और इसलिए हम अब एक -दूसरे को थोड़ी देर के लिए जानते हैं।मैं कह सकता हूं कि वह वास्तव में भारत के लिए सही काम करना चाहता है।वह खुला रहना चाहता है, वह नई कंपनियों का समर्थन करना चाहता है और जाहिर है, लेकिन साथ ही यह सुनिश्चित करें कि यह भारत के लाभ के लिए अर्जित करता है जो जाहिर है कि यह काम है।मैं कह रहा हूं कि मैं मोदी का प्रशंसक हूं।'"
      ]
     },
     "execution_count": 9,
     "metadata": {},
     "output_type": "execute_result"
    }
   ],
   "source": [
    "# Display the translated_text\n",
    "translated_text.text"
   ]
  },
  {
   "cell_type": "markdown",
   "metadata": {},
   "source": [
    "## Step 3: Voice Cloning with Translated Content"
   ]
  },
  {
   "cell_type": "code",
   "execution_count": 10,
   "metadata": {
    "id": "wjh17T6GCnvO"
   },
   "outputs": [],
   "source": [
    "# Import TTS for voice synthesis\n",
    "from TTS.api import TTS"
   ]
  },
  {
   "cell_type": "code",
   "execution_count": 11,
   "metadata": {
    "colab": {
     "base_uri": "https://localhost:8080/"
    },
    "id": "wmXCKhCaCtfY",
    "outputId": "c113f4b4-83e4-4980-ac38-ba8cd2e38333"
   },
   "outputs": [
    {
     "name": "stdout",
     "output_type": "stream",
     "text": [
      " > Downloading model to /root/.local/share/tts/tts_models--hin--fairseq--vits\n"
     ]
    },
    {
     "name": "stderr",
     "output_type": "stream",
     "text": [
      "100%|██████████| 135M/135M [00:06<00:00, 22.4MiB/s]\n"
     ]
    },
    {
     "name": "stdout",
     "output_type": "stream",
     "text": [
      " > Model's license - CC BY-NC 4.0\n",
      " > Check https://opensource.org/licenses for more info.\n",
      " > Setting up Audio Processor...\n",
      " | > sample_rate:22050\n",
      " | > resample:False\n",
      " | > num_mels:80\n",
      " | > log_func:np.log10\n",
      " | > min_level_db:0\n",
      " | > frame_shift_ms:None\n",
      " | > frame_length_ms:None\n",
      " | > ref_level_db:None\n",
      " | > fft_size:1024\n",
      " | > power:None\n",
      " | > preemphasis:0.0\n",
      " | > griffin_lim_iters:None\n",
      " | > signal_norm:None\n",
      " | > symmetric_norm:None\n",
      " | > mel_fmin:0\n",
      " | > mel_fmax:None\n",
      " | > pitch_fmin:None\n",
      " | > pitch_fmax:None\n",
      " | > spec_gain:20.0\n",
      " | > stft_pad_mode:reflect\n",
      " | > max_norm:1.0\n",
      " | > clip_norm:True\n",
      " | > do_trim_silence:False\n",
      " | > trim_db:60\n",
      " | > do_sound_norm:False\n",
      " | > do_amp_to_db_linear:True\n",
      " | > do_amp_to_db_mel:True\n",
      " | > do_rms_norm:False\n",
      " | > db_level:None\n",
      " | > stats_path:None\n",
      " | > base:10\n",
      " | > hop_length:256\n",
      " | > win_length:1024\n",
      " > Text splitted to sentences.\n",
      "['मैं वास्तव में भारत के भविष्य के बारे में अविश्वसनीय रूप से उत्साहित हूं।मुझे लगता है कि भारत में दुनिया के किसी भी बड़े देश की तुलना में अधिक वादा है।वह वास्तव में भारत के बारे में परवाह करता है क्योंकि वह हमें भारत में महत्वपूर्ण निवेश करने के लिए प्रेरित कर रहा है जो कि यह कुछ ऐसा है जिसे हम करना चाहते हैं और हम सिर्फ सही समय का पता लगाने की कोशिश कर रहे हैं।यह प्रधानमंत्री के साथ एक शानदार बैठक थी और मैं उन्हें काफी पसंद करता हूं।उन्होंने कई साल पहले हमारे फ्री वांट फैक्ट्री का दौरा किया था और इसलिए हम अब एक -दूसरे को थोड़ी देर के लिए जानते हैं।मैं कह सकता हूं कि वह वास्तव में भारत के लिए सही काम करना चाहता है।वह खुला रहना चाहता है, वह नई कंपनियों का समर्थन करना चाहता है और जाहिर है, लेकिन साथ ही यह सुनिश्चित करें कि यह भारत के लाभ के लिए अर्जित करता है जो जाहिर है कि यह काम है।मैं कह रहा हूं कि मैं मोदी का प्रशंसक हूं।']\n",
      "मैं वास्तव में भारत के भविष्य के बारे में अविश्वसनीय रूप से उत्साहित हूं।मुझे लगता है कि भारत में दुनिया के किसी भी बड़े देश की तुलना में अधिक वादा है।वह वास्तव में भारत के बारे में परवाह करता है क्योंकि वह हमें भारत में महत्वपूर्ण निवेश करने के लिए प्रेरित कर रहा है जो कि यह कुछ ऐसा है जिसे हम करना चाहते हैं और हम सिर्फ सही समय का पता लगाने की कोशिश कर रहे हैं।यह प्रधानमंत्री के साथ एक शानदार बैठक थी और मैं उन्हें काफी पसंद करता हूं।उन्होंने कई साल पहले हमारे फ्री वांट फैक्ट्री का दौरा किया था और इसलिए हम अब एक -दूसरे को थोड़ी देर के लिए जानते हैं।मैं कह सकता हूं कि वह वास्तव में भारत के लिए सही काम करना चाहता है।वह खुला रहना चाहता है, वह नई कंपनियों का समर्थन करना चाहता है और जाहिर है, लेकिन साथ ही यह सुनिश्चित करें कि यह भारत के लाभ के लिए अर्जित करता है जो जाहिर है कि यह काम है।मैं कह रहा हूं कि मैं मोदी का प्रशंसक हूं।\n",
      " [!] Character '।' not found in the vocabulary. Discarding it.\n",
      "मैं वास्तव में भारत के भविष्य के बारे में अविश्वसनीय रूप से उत्साहित हूं।मुझे लगता है कि भारत में दुनिया के किसी भी बड़े देश की तुलना में अधिक वादा है।वह वास्तव में भारत के बारे में परवाह करता है क्योंकि वह हमें भारत में महत्वपूर्ण निवेश करने के लिए प्रेरित कर रहा है जो कि यह कुछ ऐसा है जिसे हम करना चाहते हैं और हम सिर्फ सही समय का पता लगाने की कोशिश कर रहे हैं।यह प्रधानमंत्री के साथ एक शानदार बैठक थी और मैं उन्हें काफी पसंद करता हूं।उन्होंने कई साल पहले हमारे फ्री वांट फैक्ट्री का दौरा किया था और इसलिए हम अब एक -दूसरे को थोड़ी देर के लिए जानते हैं।मैं कह सकता हूं कि वह वास्तव में भारत के लिए सही काम करना चाहता है।वह खुला रहना चाहता है, वह नई कंपनियों का समर्थन करना चाहता है और जाहिर है, लेकिन साथ ही यह सुनिश्चित करें कि यह भारत के लाभ के लिए अर्जित करता है जो जाहिर है कि यह काम है।मैं कह रहा हूं कि मैं मोदी का प्रशंसक हूं।\n",
      " [!] Character ',' not found in the vocabulary. Discarding it.\n",
      " > Processing time: 76.80409979820251\n",
      " > Real-time factor: 1.2242233418589112\n",
      " > Downloading model to /root/.local/share/tts/voice_conversion_models--multilingual--vctk--freevc24\n"
     ]
    },
    {
     "name": "stderr",
     "output_type": "stream",
     "text": [
      "100%|██████████| 896M/896M [00:46<00:00, 19.2MiB/s]\n"
     ]
    },
    {
     "name": "stdout",
     "output_type": "stream",
     "text": [
      " > Model's license - MIT\n",
      " > Check https://choosealicense.com/licenses/mit/ for more info.\n",
      " > Using model: freevc\n",
      " > Loading pretrained speaker encoder model ...\n",
      "Loaded the voice encoder model on cuda in 2.12 seconds.\n",
      " > Downloading WavLM model to /root/.local/share/tts/wavlm/WavLM-Large.pt ...\n"
     ]
    }
   ],
   "source": [
    "# Initialize TTS model with Hindi language\n",
    "api = TTS(\"tts_models/hin/fairseq/vits\")\n",
    "\n",
    "# Voice clone with the translated hindi text and save the output\n",
    "api.tts_with_vc_to_file(\n",
    "    translated_text.text,\n",
    "    speaker_wav=\"Elon Musk audio.wav\",\n",
    "    file_path=\"Elon Musk audio (Hindi).wav\"\n",
    ")"
   ]
  },
  {
   "cell_type": "markdown",
   "metadata": {},
   "source": [
    "# Conclusion: Unveiling the Symphony of Voices and Words\n",
    "\n",
    "As we reach the culmination of our mesmerizing journey in the realm of Voice Translation, we find ourselves standing at the crossroads of technology and linguistics. Our project has woven a tapestry where spoken English metamorphoses into the enchanting script of Hindi, and where voices traverse borders, uniting diverse cultures through the universal language of creativity.\n",
    "\n",
    "Through the tools like `openai-whisper`, `googletrans`, and `TTS`, we've witnessed the fusion of artificial intelligence and human expression. We've harnessed the power of transcribing, translating, and breathing life into text, all while preserving the unique essence of voice.\n",
    "\n",
    "But this project is more than a mere culmination of lines of code; it's a testament to the power of human ingenuity. We've painted with the palette of sound, bridging gaps and fostering understanding in a world where communication knows no bounds.\n",
    "\n",
    "Our creation has the ability to connect, resonate, and inspire. With this project, we've not only achieved a remarkable technological feat but have also become a storyteller, a bridge-builder, and an agent of cross-cultural connection. "
   ]
  }
 ],
 "metadata": {
  "accelerator": "GPU",
  "colab": {
   "gpuType": "T4",
   "provenance": []
  },
  "kernelspec": {
   "display_name": "Python 3 (ipykernel)",
   "language": "python",
   "name": "python3"
  },
  "language_info": {
   "codemirror_mode": {
    "name": "ipython",
    "version": 3
   },
   "file_extension": ".py",
   "mimetype": "text/x-python",
   "name": "python",
   "nbconvert_exporter": "python",
   "pygments_lexer": "ipython3",
   "version": "3.9.12"
  }
 },
 "nbformat": 4,
 "nbformat_minor": 1
}
